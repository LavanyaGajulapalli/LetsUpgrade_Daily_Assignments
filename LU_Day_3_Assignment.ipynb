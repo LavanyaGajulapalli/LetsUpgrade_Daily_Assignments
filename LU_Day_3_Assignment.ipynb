{
  "nbformat": 4,
  "nbformat_minor": 0,
  "metadata": {
    "colab": {
      "name": "LU_Day_3_Assignment",
      "provenance": [],
      "authorship_tag": "ABX9TyNuV7vC22Jftj6FB6H+EgQ/",
      "include_colab_link": true
    },
    "kernelspec": {
      "name": "python3",
      "display_name": "Python 3"
    }
  },
  "cells": [
    {
      "cell_type": "markdown",
      "metadata": {
        "id": "view-in-github",
        "colab_type": "text"
      },
      "source": [
        "<a href=\"https://colab.research.google.com/github/LavanyaGajulapalli/LetsUpgrade_Daily_Assignments/blob/master/LU_Day_3_Assignment.ipynb\" target=\"_parent\"><img src=\"https://colab.research.google.com/assets/colab-badge.svg\" alt=\"Open In Colab\"/></a>"
      ]
    },
    {
      "cell_type": "markdown",
      "metadata": {
        "id": "0CA9QHoog7vH",
        "colab_type": "text"
      },
      "source": [
        "Assignment 1: Python program to check whether the given number is prime or not"
      ]
    },
    {
      "cell_type": "code",
      "metadata": {
        "id": "uO3tLhYuhRhv",
        "colab_type": "code",
        "colab": {
          "base_uri": "https://localhost:8080/",
          "height": 51
        },
        "outputId": "e6aab1d2-636a-4d6a-eef1-52aa694dc2d9"
      },
      "source": [
        " \n",
        "num = int(input(\"enter a number: \"))\n",
        "if num > 1: \n",
        "   for i in range(2, num): \n",
        "       if (num % i) == 0: \n",
        "           print(num, \"is not a prime number\") \n",
        "           break\n",
        "   else: \n",
        "       print(num, \"is a prime number\") \n",
        "else: \n",
        "   print(num, \"is not a prime number\")"
      ],
      "execution_count": 1,
      "outputs": [
        {
          "output_type": "stream",
          "text": [
            "enter a number: 6\n",
            "6 is not a prime number\n"
          ],
          "name": "stdout"
        }
      ]
    },
    {
      "cell_type": "markdown",
      "metadata": {
        "id": "Lny_pSOdhXi9",
        "colab_type": "text"
      },
      "source": [
        "Assignment 2: Python program to find the sum of n numbers with the help of while loop"
      ]
    },
    {
      "cell_type": "code",
      "metadata": {
        "id": "TcYD1wFohsXg",
        "colab_type": "code",
        "colab": {
          "base_uri": "https://localhost:8080/",
          "height": 51
        },
        "outputId": "24be6f61-3170-477c-8805-3321d7148a64"
      },
      "source": [
        "n=int(input(\"enter any number : \"))\n",
        "sum=0\n",
        "x=1\n",
        "while x<=n:\n",
        "    sum+=x    \n",
        "    x=x+1\n",
        "print (\"sum of\",n,\"numbers is: \",sum)"
      ],
      "execution_count": 9,
      "outputs": [
        {
          "output_type": "stream",
          "text": [
            "enter any number : 10\n",
            "sum of 10 numbers is:  55\n"
          ],
          "name": "stdout"
        }
      ]
    }
  ]
}