{
  "nbformat": 4,
  "nbformat_minor": 0,
  "metadata": {
    "colab": {
      "name": "LU_Batch_6_python_Day_7_Assignment",
      "provenance": [],
      "authorship_tag": "ABX9TyOWste+9f2lbZoqtS3wSeLX",
      "include_colab_link": true
    },
    "kernelspec": {
      "name": "python3",
      "display_name": "Python 3"
    }
  },
  "cells": [
    {
      "cell_type": "markdown",
      "metadata": {
        "id": "view-in-github",
        "colab_type": "text"
      },
      "source": [
        "<a href=\"https://colab.research.google.com/github/LavanyaGajulapalli/LetsUpgrade_Daily_Assignments/blob/master/LU_Batch_6_python_Day_7_Assignment.ipynb\" target=\"_parent\"><img src=\"https://colab.research.google.com/assets/colab-badge.svg\" alt=\"Open In Colab\"/></a>"
      ]
    },
    {
      "cell_type": "code",
      "metadata": {
        "id": "gLFrcybVdt-K",
        "colab_type": "code",
        "colab": {}
      },
      "source": [
        ""
      ],
      "execution_count": null,
      "outputs": []
    },
    {
      "cell_type": "markdown",
      "metadata": {
        "id": "D9E0tv0sdwKR",
        "colab_type": "text"
      },
      "source": [
        "Assignment 1:Use the dictionary\n",
        "port1={21:\"FTP\",22:\"SSH\",23:\"telnet\",80:\"http\"}\n",
        "and make a new dictionary in which key's becomes value's and value' become's key's as shown\n",
        "port2={\"FTP\":21,\"SSH\":22,\"telnet\":23,\"http\":80}"
      ]
    },
    {
      "cell_type": "code",
      "metadata": {
        "id": "bO9rrBm5e2BG",
        "colab_type": "code",
        "colab": {
          "base_uri": "https://localhost:8080/",
          "height": 54
        },
        "outputId": "da6866ad-4f47-4a75-f27d-4be832d9851a"
      },
      "source": [
        "port1={21:\"FTP\",22:\"SSH\",23:\"telnet\",80:\"http\"} \n",
        "port2={}\n",
        "for k,v in port1.items():\n",
        "    port2[v]=k\n",
        "print (port2)"
      ],
      "execution_count": 2,
      "outputs": [
        {
          "output_type": "stream",
          "text": [
            "{'FTP': 21, 'SSH': 22, 'telnet': 23, 'http': 80}\n"
          ],
          "name": "stdout"
        }
      ]
    },
    {
      "cell_type": "markdown",
      "metadata": {
        "id": "RtlKqp8jgFTX",
        "colab_type": "text"
      },
      "source": [
        "Assignment 2: Take a list of tuples as shown below.[(1,2),(3,4),(5,6),(4,5)].Make a new list which contains the sum of the number of tuples."
      ]
    },
    {
      "cell_type": "code",
      "metadata": {
        "id": "J45r2xOYg0Fq",
        "colab_type": "code",
        "colab": {
          "base_uri": "https://localhost:8080/",
          "height": 34
        },
        "outputId": "e9b5e99a-ae03-4318-e90d-1c0874e26166"
      },
      "source": [
        "list=[(1,2),(3,4),(5,6),(4,5)]\n",
        "x=[]\n",
        "for i in list:\n",
        "    x.append(sum(i))\n",
        "print(x)"
      ],
      "execution_count": 3,
      "outputs": [
        {
          "output_type": "stream",
          "text": [
            "[3, 7, 11, 9]\n"
          ],
          "name": "stdout"
        }
      ]
    },
    {
      "cell_type": "markdown",
      "metadata": {
        "id": "zumlUi-4hm2E",
        "colab_type": "text"
      },
      "source": [
        " Assignment 3:Take a list as shown below.[(1,2,3),[1,2],[\"a\",\"hit\",\"less\"]].The list contains tuple and list.Make the elements of the inner lists and tuples to outer list."
      ]
    },
    {
      "cell_type": "code",
      "metadata": {
        "id": "N_90KrJ8ikZv",
        "colab_type": "code",
        "colab": {
          "base_uri": "https://localhost:8080/",
          "height": 54
        },
        "outputId": "bdb89b02-b0c6-4e66-e70d-3203727c7b36"
      },
      "source": [
        "list=[(1,2,3),[1,2],[\"a\",\"hit\",\"less\"]]\n",
        "list1=[]\n",
        "for i in list:\n",
        "    for j in i:\n",
        "        list1.append(j)\n",
        " \n",
        "print (list1)"
      ],
      "execution_count": 4,
      "outputs": [
        {
          "output_type": "stream",
          "text": [
            "[1, 2, 3, 1, 2, 'a', 'hit', 'less']\n"
          ],
          "name": "stdout"
        }
      ]
    }
  ]
}