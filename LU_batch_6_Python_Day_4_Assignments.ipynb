{
  "nbformat": 4,
  "nbformat_minor": 0,
  "metadata": {
    "colab": {
      "name": "LU_batch_6_Python_Day_4_Assignments",
      "provenance": [],
      "authorship_tag": "ABX9TyPB0osxquiN9PraCm9ycXrt",
      "include_colab_link": true
    },
    "kernelspec": {
      "name": "python3",
      "display_name": "Python 3"
    }
  },
  "cells": [
    {
      "cell_type": "markdown",
      "metadata": {
        "id": "view-in-github",
        "colab_type": "text"
      },
      "source": [
        "<a href=\"https://colab.research.google.com/github/LavanyaGajulapalli/LetsUpgrade_Daily_Assignments/blob/master/LU_batch_6_Python_Day_4_Assignments.ipynb\" target=\"_parent\"><img src=\"https://colab.research.google.com/assets/colab-badge.svg\" alt=\"Open In Colab\"/></a>"
      ]
    },
    {
      "cell_type": "markdown",
      "metadata": {
        "id": "w4Od8QX6uD7h",
        "colab_type": "text"
      },
      "source": [
        "Assignment 1:Find all the occurrences of the substring \"we\" in the given string \"what we think we become;we are python programmers\""
      ]
    },
    {
      "cell_type": "code",
      "metadata": {
        "id": "TUzdhHVCuuRj",
        "colab_type": "code",
        "colab": {
          "base_uri": "https://localhost:8080/",
          "height": 54
        },
        "outputId": "535364cc-7254-4423-d34f-e3a6143655d5"
      },
      "source": [
        "string=\"what we think we become;we are python programmers\"\n",
        "substring=\"we\"\n",
        "n=string.count(substring)\n",
        "l=[]\n",
        "for i in range(len(string)):\n",
        "    if string.startswith(substring,i):\n",
        "        l.append(i)\n",
        "print (\"the substring we occurred \",n,\"times at\",l,\"index values\")"
      ],
      "execution_count": 5,
      "outputs": [
        {
          "output_type": "stream",
          "text": [
            "the substring we occurred  3 times at [5, 14, 24] index values\n"
          ],
          "name": "stdout"
        }
      ]
    },
    {
      "cell_type": "markdown",
      "metadata": {
        "id": "m2J6XYc9w3vi",
        "colab_type": "text"
      },
      "source": [
        "Assignment 2: Explain islower() and isupper() using different kind of strings"
      ]
    },
    {
      "cell_type": "code",
      "metadata": {
        "id": "IUzQTS7Hxhx8",
        "colab_type": "code",
        "colab": {
          "base_uri": "https://localhost:8080/",
          "height": 51
        },
        "outputId": "c8825bde-3304-45a1-f852-d718f5df3e6b"
      },
      "source": [
        "string1=\"hello everyone\"\n",
        "print (string1.isupper())\n",
        "print (string1.islower())"
      ],
      "execution_count": 9,
      "outputs": [
        {
          "output_type": "stream",
          "text": [
            "False\n",
            "True\n"
          ],
          "name": "stdout"
        }
      ]
    },
    {
      "cell_type": "code",
      "metadata": {
        "id": "W3Mzt59qyC7a",
        "colab_type": "code",
        "colab": {
          "base_uri": "https://localhost:8080/",
          "height": 34
        },
        "outputId": "9d30d242-76af-49b8-bcd2-3b1b522b87a0"
      },
      "source": [
        "string=\"Hello EvEryOne\"\n",
        "print(string.islower())"
      ],
      "execution_count": 10,
      "outputs": [
        {
          "output_type": "stream",
          "text": [
            "False\n"
          ],
          "name": "stdout"
        }
      ]
    },
    {
      "cell_type": "code",
      "metadata": {
        "id": "PLBmeJ3yyQiJ",
        "colab_type": "code",
        "colab": {
          "base_uri": "https://localhost:8080/",
          "height": 34
        },
        "outputId": "ee0dc51f-2b14-40c6-8aab-48348edc00b9"
      },
      "source": [
        "print (string.isupper())"
      ],
      "execution_count": 11,
      "outputs": [
        {
          "output_type": "stream",
          "text": [
            "False\n"
          ],
          "name": "stdout"
        }
      ]
    },
    {
      "cell_type": "code",
      "metadata": {
        "id": "pJBu-Tx5yWyT",
        "colab_type": "code",
        "colab": {
          "base_uri": "https://localhost:8080/",
          "height": 34
        },
        "outputId": "e1740049-c09c-4383-89d3-8bcdc4aed4db"
      },
      "source": [
        "string=\"HELLO EVERYONE\"\n",
        "print(string.islower())"
      ],
      "execution_count": 12,
      "outputs": [
        {
          "output_type": "stream",
          "text": [
            "False\n"
          ],
          "name": "stdout"
        }
      ]
    },
    {
      "cell_type": "code",
      "metadata": {
        "id": "fWppPPgcyjBA",
        "colab_type": "code",
        "colab": {
          "base_uri": "https://localhost:8080/",
          "height": 34
        },
        "outputId": "2bbd02f7-82e0-418a-b118-68831741863f"
      },
      "source": [
        "print (string.isupper())"
      ],
      "execution_count": 13,
      "outputs": [
        {
          "output_type": "stream",
          "text": [
            "True\n"
          ],
          "name": "stdout"
        }
      ]
    },
    {
      "cell_type": "code",
      "metadata": {
        "id": "FCHeGoj7yo2B",
        "colab_type": "code",
        "colab": {
          "base_uri": "https://localhost:8080/",
          "height": 34
        },
        "outputId": "218b92a5-20e8-4282-a5a6-da48ebeebdcb"
      },
      "source": [
        "string=\"Hello123\"\n",
        "print (string.islower())"
      ],
      "execution_count": 14,
      "outputs": [
        {
          "output_type": "stream",
          "text": [
            "False\n"
          ],
          "name": "stdout"
        }
      ]
    },
    {
      "cell_type": "code",
      "metadata": {
        "id": "gK7uyeyFy0cz",
        "colab_type": "code",
        "colab": {
          "base_uri": "https://localhost:8080/",
          "height": 34
        },
        "outputId": "909ede26-8dbb-4564-8891-fff7e73bc6b7"
      },
      "source": [
        "print (string.isupper())"
      ],
      "execution_count": 15,
      "outputs": [
        {
          "output_type": "stream",
          "text": [
            "False\n"
          ],
          "name": "stdout"
        }
      ]
    }
  ]
}