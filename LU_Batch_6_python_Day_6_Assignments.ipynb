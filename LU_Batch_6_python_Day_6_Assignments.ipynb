{
  "nbformat": 4,
  "nbformat_minor": 0,
  "metadata": {
    "colab": {
      "name": "LU_Batch_6_python_Day_6_Assignments",
      "provenance": [],
      "authorship_tag": "ABX9TyO35W2EpF2ARQwIL+g7byaJ",
      "include_colab_link": true
    },
    "kernelspec": {
      "name": "python3",
      "display_name": "Python 3"
    }
  },
  "cells": [
    {
      "cell_type": "markdown",
      "metadata": {
        "id": "view-in-github",
        "colab_type": "text"
      },
      "source": [
        "<a href=\"https://colab.research.google.com/github/LavanyaGajulapalli/LetsUpgrade_Daily_Assignments/blob/master/LU_Batch_6_python_Day_6_Assignments.ipynb\" target=\"_parent\"><img src=\"https://colab.research.google.com/assets/colab-badge.svg\" alt=\"Open In Colab\"/></a>"
      ]
    },
    {
      "cell_type": "markdown",
      "metadata": {
        "id": "a5SETXjwAwPv",
        "colab_type": "text"
      },
      "source": [
        "Assignment 1:list1=[1,2,3,4,5,7,8]\n",
        "list2=[\"a\",\"b\",\"c\",\"d\",\"e\"]\n",
        "Convert it into a dictionary in one line code using list comprehension."
      ]
    },
    {
      "cell_type": "code",
      "metadata": {
        "id": "eYQbmj8PJWSA",
        "colab_type": "code",
        "colab": {
          "base_uri": "https://localhost:8080/",
          "height": 54
        },
        "outputId": "7e9c75ed-ca7d-4f33-f132-2917c9d80c65"
      },
      "source": [
        " \n",
        "list1=[1,2,3,4,5,7,8] \n",
        "list2=[\"a\",\"b\",\"c\",\"d\",\"e\"]\n",
        "print({list1[i]: list2[i] for i in range(min(len(list1),len(list2)))})"
      ],
      "execution_count": 24,
      "outputs": [
        {
          "output_type": "stream",
          "text": [
            "{1: 'a', 2: 'b', 3: 'c', 4: 'd', 5: 'e'}\n"
          ],
          "name": "stdout"
        }
      ]
    }
  ]
}