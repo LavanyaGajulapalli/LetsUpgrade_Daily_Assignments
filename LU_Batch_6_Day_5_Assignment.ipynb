{
  "nbformat": 4,
  "nbformat_minor": 0,
  "metadata": {
    "colab": {
      "name": "LU_Batch_6_Day_5_Assignment",
      "provenance": [],
      "authorship_tag": "ABX9TyOOadtjVYxVCqaECrFTdnkA",
      "include_colab_link": true
    },
    "kernelspec": {
      "name": "python3",
      "display_name": "Python 3"
    }
  },
  "cells": [
    {
      "cell_type": "markdown",
      "metadata": {
        "id": "view-in-github",
        "colab_type": "text"
      },
      "source": [
        "<a href=\"https://colab.research.google.com/github/LavanyaGajulapalli/LetsUpgrade_Daily_Assignments/blob/master/LU_Batch_6_Day_5_Assignment.ipynb\" target=\"_parent\"><img src=\"https://colab.research.google.com/assets/colab-badge.svg\" alt=\"Open In Colab\"/></a>"
      ]
    },
    {
      "cell_type": "markdown",
      "metadata": {
        "id": "asT8sP9N0t-R",
        "colab_type": "text"
      },
      "source": [
        "Assignment 1:[0,1,2,10,4,1,0,56,2,0,1,3,0,56,0,4]\n",
        "Sort the above list in increasing order but all the zero's should be at right hand side."
      ]
    },
    {
      "cell_type": "code",
      "metadata": {
        "id": "UrNgbfdy1ZLD",
        "colab_type": "code",
        "colab": {
          "base_uri": "https://localhost:8080/",
          "height": 54
        },
        "outputId": "0adad19a-477c-4f05-ae45-39468e00b9c9"
      },
      "source": [
        "list=[0,1,2,10,4,1,0,56,2,0,1,3,0,56,0,4]\n",
        "list.sort()\n",
        " \n",
        "for j in list:\n",
        "    if j==0:\n",
        "        list.remove(j)\n",
        "        list.append(j)\n",
        "print (list)"
      ],
      "execution_count": 2,
      "outputs": [
        {
          "output_type": "stream",
          "text": [
            "[1, 1, 1, 2, 2, 3, 4, 4, 10, 56, 56, 0, 0, 0, 0, 0]\n"
          ],
          "name": "stdout"
        }
      ]
    },
    {
      "cell_type": "markdown",
      "metadata": {
        "id": "sLMaceZV26XA",
        "colab_type": "text"
      },
      "source": [
        "Assignment 2:list1=[10,20,40,60,70,80]\n",
        "sorted list\n",
        "list2=[5,15,25,35,45,60]sorted list\n",
        "Merge these two sorted lists to produce one sorted list,but use only one loop either while or for only one time."
      ]
    },
    {
      "cell_type": "code",
      "metadata": {
        "id": "0dR3ixrB79_3",
        "colab_type": "code",
        "colab": {
          "base_uri": "https://localhost:8080/",
          "height": 54
        },
        "outputId": "c98534ad-2827-4f0d-d67b-d840bcc0b29c"
      },
      "source": [
        " \n",
        "list1=[10,20,40,60,70,80] \n",
        "list2=[5,15,25,35,45,60]  \n",
        " \n",
        "n1= len(list1) \n",
        "n2 =len(list2) \n",
        "  \n",
        "list3 = [] \n",
        "i, j = 0, 0\n",
        "  \n",
        "while i < n1 and j < n2: \n",
        "    if list1[i] < list2[j]: \n",
        "      list3.append(list1[i]) \n",
        "      i += 1\n",
        "  \n",
        "    else: \n",
        "      list3.append(list2[j]) \n",
        "      j += 1\n",
        "   \n",
        "list3=list3+list1[i:]+list2[j:]\n",
        "print (list3)"
      ],
      "execution_count": 11,
      "outputs": [
        {
          "output_type": "stream",
          "text": [
            "[5, 10, 15, 20, 25, 35, 40, 45, 60, 60, 70, 80]\n"
          ],
          "name": "stdout"
        }
      ]
    }
  ]
}